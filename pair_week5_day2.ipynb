{
 "cells": [
  {
   "cell_type": "code",
   "execution_count": 1,
   "metadata": {
    "collapsed": true
   },
   "outputs": [],
   "source": [
    "# function BuildTree:\n",
    "#     If every item in the dataset is in the same class\n",
    "#     or there is no feature left to split the data:\n",
    "#         return a leaf node with the class label\n",
    "#     Else:\n",
    "#         find the best feature and value to split the data\n",
    "#         split the dataset\n",
    "#         create a node\n",
    "#         for each split\n",
    "#             call BuildTree and add the result as a child of the node\n",
    "#         return node"
   ]
  },
  {
   "cell_type": "code",
   "execution_count": 24,
   "metadata": {
    "collapsed": false
   },
   "outputs": [],
   "source": [
    "import pandas as pd\n",
    "import numpy as np\n",
    "import math\n",
    "from collections import Counter\n",
    "from TreeNode import TreeNode\n",
    "\n",
    "\n",
    "class DecisionTree(object):\n",
    "    '''\n",
    "    A decision tree class.\n",
    "    '''\n",
    "\n",
    "    def __init__(self, impurity_criterion='entropy'):\n",
    "        '''\n",
    "        Initialize an empty DecisionTree.\n",
    "        '''\n",
    "\n",
    "        self.root = None  # root Node\n",
    "        self.feature_names = None  # string names of features (for interpreting\n",
    "                                   # the tree)\n",
    "        self.categorical = None  # Boolean array of whether variable is\n",
    "                                 # categorical (or continuous)\n",
    "        self.impurity_criterion = self._entropy \\\n",
    "                                  if impurity_criterion == 'entropy' \\\n",
    "                                  else self._gini\n",
    "\n",
    "    def fit(self, X, y, feature_names=None):\n",
    "        '''\n",
    "        INPUT:\n",
    "            - X: 2d numpy array\n",
    "            - y: 1d numpy array\n",
    "            - feature_names: numpy array of strings\n",
    "        OUTPUT: None\n",
    "\n",
    "        Build the decision tree.\n",
    "        X is a 2 dimensional array with each column being a feature and each\n",
    "        row a data point.\n",
    "        y is a 1 dimensional array with each value being the corresponding\n",
    "        label.\n",
    "        feature_names is an optional list containing the names of each of the\n",
    "        features.\n",
    "        '''\n",
    "\n",
    "        if feature_names is None or len(feature_names) != X.shape[1]:\n",
    "            self.feature_names = np.arange(X.shape[1])\n",
    "        else:\n",
    "            self.feature_names = feature_names\n",
    "\n",
    "        # Create True/False array of whether the variable is categorical\n",
    "        is_categorical = lambda x: isinstance(x, str) or \\\n",
    "                                   isinstance(x, bool) or \\\n",
    "                                   isinstance(x, str)\n",
    "        self.categorical = np.vectorize(is_categorical)(X[0])\n",
    "\n",
    "        self.root = self._build_tree(X, y)\n",
    "\n",
    "    def _build_tree(self, X, y):\n",
    "        '''\n",
    "        INPUT:\n",
    "            - X: 2d numpy array\n",
    "            - y: 1d numpy array\n",
    "        OUTPUT:\n",
    "            - TreeNode\n",
    "\n",
    "        Recursively build the decision tree. Return the root node.\n",
    "        '''\n",
    "\n",
    "        node = TreeNode()\n",
    "        index, value, splits = self._choose_split_index(X, y)\n",
    "\n",
    "        if index is None or len(np.unique(y)) == 1:\n",
    "            node.leaf = True\n",
    "            node.classes = Counter(y)\n",
    "            node.name = node.classes.most_common(1)[0][0]\n",
    "        else:\n",
    "            X1, y1, X2, y2 = splits\n",
    "            node.column = index\n",
    "            node.name = self.feature_names[index]\n",
    "            node.value = value\n",
    "            node.categorical = self.categorical[index]\n",
    "            node.left = self._build_tree(X1, y1)\n",
    "            node.right = self._build_tree(X2, y2)\n",
    "        return node\n",
    "\n",
    "    def _entropy(self, y):\n",
    "        '''\n",
    "        INPUT:\n",
    "            - y: 1d numpy array\n",
    "        OUTPUT:\n",
    "            - float\n",
    "\n",
    "        Return the entropy of the array y.\n",
    "        '''\n",
    "\n",
    "        d = Counter(y)    \n",
    "        l = len(y)\n",
    "        ent = 0\n",
    "\n",
    "        for key, val in d.iteritems():\n",
    "            p = val / float(l)\n",
    "            ent += p*np.log2(p)\n",
    "        return -ent\n",
    "\n",
    "    def _gini(self, y):\n",
    "        '''\n",
    "        INPUT:\n",
    "            - y: 1d numpy array\n",
    "        OUTPUT:\n",
    "            - float\n",
    "\n",
    "        Return the gini impurity of the array y.\n",
    "        '''\n",
    "\n",
    "        d = Counter(y)    \n",
    "        l = len(y)\n",
    "        gini = 0\n",
    "\n",
    "        for key, val in d.iteritems():\n",
    "            p = val / float(l)\n",
    "            gini += p*(1-p)\n",
    "        return gini\n",
    "\n",
    "    def _make_split(self, X, y, split_index, split_value):\n",
    "        '''\n",
    "        INPUT:\n",
    "            - X: 2d numpy array\n",
    "            - y: 1d numpy array\n",
    "            - split_index: int (index of feature)\n",
    "            - split_value: int/float/bool/str (value of feature)\n",
    "        OUTPUT:\n",
    "            - X1: 2d numpy array (feature matrix for subset 1)\n",
    "            - y1: 1d numpy array (labels for subset 1)\n",
    "            - X2: 2d numpy array (feature matrix for subset 2)\n",
    "            - y2: 1d numpy array (labels for subset 2)\n",
    "\n",
    "        Return the two subsets of the dataset achieved by the given feature and\n",
    "        value to split on.\n",
    "\n",
    "        Call the method like this:\n",
    "        >>> X1, y1, X2, y2 = self._make_split(X, y, split_index, split_value)\n",
    "\n",
    "        X1, y1 is a subset of the data.\n",
    "        X2, y2 is the other subset of the data.\n",
    "        '''\n",
    "\n",
    "        X1 = []\n",
    "        X2 = []\n",
    "\n",
    "        Y1 = []\n",
    "        Y2 = []\n",
    "        \n",
    "        if type(split_value) in ['int', 'float']:\n",
    "            ind = 0\n",
    "            for arr in X:\n",
    "                if arr[split_index] >= split_value:\n",
    "                    stuff = np.hstack((arr[:split_index], arr[split_index+1:]))\n",
    "                    X1.extend([stuff])\n",
    "                    Y1.append(y[ind])\n",
    "                else:\n",
    "                    stuff = np.hstack((arr[:split_index], arr[split_index+1:]))\n",
    "                    X2.extend([stuff])\n",
    "                    Y2.append(y[ind])\n",
    "                ind += 1\n",
    "        else:\n",
    "            ind = 0\n",
    "            for arr in X:\n",
    "                if arr[split_index] == split_value:\n",
    "                    stuff = np.hstack((arr[:split_index], arr[split_index+1:]))\n",
    "                    X1.extend([stuff])\n",
    "                    Y1.append(y[ind])\n",
    "                else:\n",
    "                    stuff = np.hstack((arr[:split_index], arr[split_index+1:]))\n",
    "                    X2.extend([stuff])\n",
    "                    Y2.append(y[ind])\n",
    "                ind += 1\n",
    "\n",
    "        return X1, Y1, X2, Y2\n",
    "\n",
    "    def _information_gain(self, y, y1, y2):\n",
    "        '''\n",
    "        INPUT:\n",
    "            - y: 1d numpy array\n",
    "            - y1: 1d numpy array (labels for subset 1)\n",
    "            - y2: 1d numpy array (labels for subset 2)\n",
    "        OUTPUT:\n",
    "            - float\n",
    "\n",
    "        Return the information gain of making the given split.\n",
    "\n",
    "        Use self.impurity_criterion(y) rather than calling _entropy or _gini\n",
    "        directly.\n",
    "        \n",
    "        '''\n",
    "        \n",
    "        l = float(len(y))\n",
    "        ig = self._entropy(y) - ((len(y1) / l)  * self._entropy(y1)) - ((len(y2) / l) * self._entropy(y2))\n",
    "\n",
    "        return ig\n",
    "    \n",
    "    def _choose_split_index(self, X, y):\n",
    "        '''\n",
    "        INPUT:\n",
    "            - X: 2d numpy array\n",
    "            - y: 1d numpy array\n",
    "        OUTPUT:\n",
    "            - index: int (index of feature)\n",
    "            - value: int/float/bool/str (value of feature)\n",
    "            - splits: (2d array, 1d array, 2d array, 1d array)\n",
    "\n",
    "        Determine which feature and value to split on. Return the index and\n",
    "        value of the optimal split along with the split of the dataset.\n",
    "\n",
    "        Return None, None, None if there is no split which improves information\n",
    "        gain.\n",
    "\n",
    "        Call the method like this:\n",
    "        >>> index, value, splits = self._choose_split_index(X, y)\n",
    "        >>> X1, y1, X2, y2 = splits\n",
    "        '''\n",
    "        col_index = np.array(X).shape[1]    \n",
    "        igs = []c\n",
    "\n",
    "        for index in range(col_index):\n",
    "            uniques = np.unique(X[:, index])\n",
    "            for unique in uniques:\n",
    "                X1, y1, X2, y2 = self._make_split(X, y, index, unique)\n",
    "                ig = self._information_gain(y, y1, y2)\n",
    "                igs.append((ig, index, unique))\n",
    "\n",
    "        max_set = sorted(igs, key = lambda x: x[0], reverse = True)[0]\n",
    "\n",
    "        index = max_set[1]\n",
    "        value = max_set[2]\n",
    "        splits = self._make_split(X, y, index, value)\n",
    "\n",
    "        return index, value, splits\n",
    "\n",
    "    def predict(self, X):\n",
    "        '''\n",
    "        INPUT:\n",
    "            - X: 2d numpy array\n",
    "        OUTPUT:\n",
    "            - y: 1d numpy array\n",
    "\n",
    "        Return an array of predictions for the feature matrix X.\n",
    "        '''\n",
    "\n",
    "        return np.array([self.root.predict_one(row) for row in X])\n",
    "\n",
    "    def __str__(self):\n",
    "        '''\n",
    "        Return string representation of the Decision Tree.\n",
    "        '''\n",
    "        return str(self.root)\n"
   ]
  },
  {
   "cell_type": "code",
   "execution_count": 25,
   "metadata": {
    "collapsed": false
   },
   "outputs": [],
   "source": [
    "df = pd.read_csv('../data/playgolf.csv')\n",
    "df.head()\n",
    "\n",
    "X = df.drop('Result', axis = 1).as_matrix()\n",
    "y = df['Result'].as_matrix()\n",
    "\n",
    "# c_split_index\n",
    "# c_split_value"
   ]
  },
  {
   "cell_type": "code",
   "execution_count": 26,
   "metadata": {
    "collapsed": false
   },
   "outputs": [
    {
     "ename": "TypeError",
     "evalue": "list indices must be integers, not tuple",
     "output_type": "error",
     "traceback": [
      "\u001b[0;31m---------------------------------------------------------------------------\u001b[0m",
      "\u001b[0;31mTypeError\u001b[0m                                 Traceback (most recent call last)",
      "\u001b[0;32m<ipython-input-26-120126322c9d>\u001b[0m in \u001b[0;36m<module>\u001b[0;34m()\u001b[0m\n\u001b[1;32m      1\u001b[0m \u001b[0mtree\u001b[0m \u001b[0;34m=\u001b[0m \u001b[0mDecisionTree\u001b[0m\u001b[0;34m(\u001b[0m\u001b[0;34m)\u001b[0m\u001b[0;34m\u001b[0m\u001b[0m\n\u001b[0;32m----> 2\u001b[0;31m \u001b[0mtree\u001b[0m\u001b[0;34m.\u001b[0m\u001b[0mfit\u001b[0m\u001b[0;34m(\u001b[0m\u001b[0mX\u001b[0m\u001b[0;34m,\u001b[0m \u001b[0my\u001b[0m\u001b[0;34m,\u001b[0m \u001b[0mdf\u001b[0m\u001b[0;34m.\u001b[0m\u001b[0mcolumns\u001b[0m\u001b[0;34m[\u001b[0m\u001b[0;34m:\u001b[0m\u001b[0;34m-\u001b[0m\u001b[0;36m1\u001b[0m\u001b[0;34m]\u001b[0m\u001b[0;34m)\u001b[0m\u001b[0;34m\u001b[0m\u001b[0m\n\u001b[0m\u001b[1;32m      3\u001b[0m \u001b[0;32mprint\u001b[0m \u001b[0mtree\u001b[0m\u001b[0;34m\u001b[0m\u001b[0m\n\u001b[1;32m      4\u001b[0m \u001b[0;31m# y_predict = tree.predict(X)\u001b[0m\u001b[0;34m\u001b[0m\u001b[0;34m\u001b[0m\u001b[0m\n",
      "\u001b[0;32m<ipython-input-24-ead0ca10dd28>\u001b[0m in \u001b[0;36mfit\u001b[0;34m(self, X, y, feature_names)\u001b[0m\n\u001b[1;32m     49\u001b[0m         \u001b[0mself\u001b[0m\u001b[0;34m.\u001b[0m\u001b[0mcategorical\u001b[0m \u001b[0;34m=\u001b[0m \u001b[0mnp\u001b[0m\u001b[0;34m.\u001b[0m\u001b[0mvectorize\u001b[0m\u001b[0;34m(\u001b[0m\u001b[0mis_categorical\u001b[0m\u001b[0;34m)\u001b[0m\u001b[0;34m(\u001b[0m\u001b[0mX\u001b[0m\u001b[0;34m[\u001b[0m\u001b[0;36m0\u001b[0m\u001b[0;34m]\u001b[0m\u001b[0;34m)\u001b[0m\u001b[0;34m\u001b[0m\u001b[0m\n\u001b[1;32m     50\u001b[0m \u001b[0;34m\u001b[0m\u001b[0m\n\u001b[0;32m---> 51\u001b[0;31m         \u001b[0mself\u001b[0m\u001b[0;34m.\u001b[0m\u001b[0mroot\u001b[0m \u001b[0;34m=\u001b[0m \u001b[0mself\u001b[0m\u001b[0;34m.\u001b[0m\u001b[0m_build_tree\u001b[0m\u001b[0;34m(\u001b[0m\u001b[0mX\u001b[0m\u001b[0;34m,\u001b[0m \u001b[0my\u001b[0m\u001b[0;34m)\u001b[0m\u001b[0;34m\u001b[0m\u001b[0m\n\u001b[0m\u001b[1;32m     52\u001b[0m \u001b[0;34m\u001b[0m\u001b[0m\n\u001b[1;32m     53\u001b[0m     \u001b[0;32mdef\u001b[0m \u001b[0m_build_tree\u001b[0m\u001b[0;34m(\u001b[0m\u001b[0mself\u001b[0m\u001b[0;34m,\u001b[0m \u001b[0mX\u001b[0m\u001b[0;34m,\u001b[0m \u001b[0my\u001b[0m\u001b[0;34m)\u001b[0m\u001b[0;34m:\u001b[0m\u001b[0;34m\u001b[0m\u001b[0m\n",
      "\u001b[0;32m<ipython-input-24-ead0ca10dd28>\u001b[0m in \u001b[0;36m_build_tree\u001b[0;34m(self, X, y)\u001b[0m\n\u001b[1;32m     75\u001b[0m             \u001b[0mnode\u001b[0m\u001b[0;34m.\u001b[0m\u001b[0mvalue\u001b[0m \u001b[0;34m=\u001b[0m \u001b[0mvalue\u001b[0m\u001b[0;34m\u001b[0m\u001b[0m\n\u001b[1;32m     76\u001b[0m             \u001b[0mnode\u001b[0m\u001b[0;34m.\u001b[0m\u001b[0mcategorical\u001b[0m \u001b[0;34m=\u001b[0m \u001b[0mself\u001b[0m\u001b[0;34m.\u001b[0m\u001b[0mcategorical\u001b[0m\u001b[0;34m[\u001b[0m\u001b[0mindex\u001b[0m\u001b[0;34m]\u001b[0m\u001b[0;34m\u001b[0m\u001b[0m\n\u001b[0;32m---> 77\u001b[0;31m             \u001b[0mnode\u001b[0m\u001b[0;34m.\u001b[0m\u001b[0mleft\u001b[0m \u001b[0;34m=\u001b[0m \u001b[0mself\u001b[0m\u001b[0;34m.\u001b[0m\u001b[0m_build_tree\u001b[0m\u001b[0;34m(\u001b[0m\u001b[0mX1\u001b[0m\u001b[0;34m,\u001b[0m \u001b[0my1\u001b[0m\u001b[0;34m)\u001b[0m\u001b[0;34m\u001b[0m\u001b[0m\n\u001b[0m\u001b[1;32m     78\u001b[0m             \u001b[0mnode\u001b[0m\u001b[0;34m.\u001b[0m\u001b[0mright\u001b[0m \u001b[0;34m=\u001b[0m \u001b[0mself\u001b[0m\u001b[0;34m.\u001b[0m\u001b[0m_build_tree\u001b[0m\u001b[0;34m(\u001b[0m\u001b[0mX2\u001b[0m\u001b[0;34m,\u001b[0m \u001b[0my2\u001b[0m\u001b[0;34m)\u001b[0m\u001b[0;34m\u001b[0m\u001b[0m\n\u001b[1;32m     79\u001b[0m         \u001b[0;32mreturn\u001b[0m \u001b[0mnode\u001b[0m\u001b[0;34m\u001b[0m\u001b[0m\n",
      "\u001b[0;32m<ipython-input-24-ead0ca10dd28>\u001b[0m in \u001b[0;36m_build_tree\u001b[0;34m(self, X, y)\u001b[0m\n\u001b[1;32m     63\u001b[0m \u001b[0;34m\u001b[0m\u001b[0m\n\u001b[1;32m     64\u001b[0m         \u001b[0mnode\u001b[0m \u001b[0;34m=\u001b[0m \u001b[0mTreeNode\u001b[0m\u001b[0;34m(\u001b[0m\u001b[0;34m)\u001b[0m\u001b[0;34m\u001b[0m\u001b[0m\n\u001b[0;32m---> 65\u001b[0;31m         \u001b[0mindex\u001b[0m\u001b[0;34m,\u001b[0m \u001b[0mvalue\u001b[0m\u001b[0;34m,\u001b[0m \u001b[0msplits\u001b[0m \u001b[0;34m=\u001b[0m \u001b[0mself\u001b[0m\u001b[0;34m.\u001b[0m\u001b[0m_choose_split_index\u001b[0m\u001b[0;34m(\u001b[0m\u001b[0mX\u001b[0m\u001b[0;34m,\u001b[0m \u001b[0my\u001b[0m\u001b[0;34m)\u001b[0m\u001b[0;34m\u001b[0m\u001b[0m\n\u001b[0m\u001b[1;32m     66\u001b[0m \u001b[0;34m\u001b[0m\u001b[0m\n\u001b[1;32m     67\u001b[0m         \u001b[0;32mif\u001b[0m \u001b[0mindex\u001b[0m \u001b[0;32mis\u001b[0m \u001b[0mNone\u001b[0m \u001b[0;32mor\u001b[0m \u001b[0mlen\u001b[0m\u001b[0;34m(\u001b[0m\u001b[0mnp\u001b[0m\u001b[0;34m.\u001b[0m\u001b[0munique\u001b[0m\u001b[0;34m(\u001b[0m\u001b[0my\u001b[0m\u001b[0;34m)\u001b[0m\u001b[0;34m)\u001b[0m \u001b[0;34m==\u001b[0m \u001b[0;36m1\u001b[0m\u001b[0;34m:\u001b[0m\u001b[0;34m\u001b[0m\u001b[0m\n",
      "\u001b[0;32m<ipython-input-24-ead0ca10dd28>\u001b[0m in \u001b[0;36m_choose_split_index\u001b[0;34m(self, X, y)\u001b[0m\n\u001b[1;32m    218\u001b[0m \u001b[0;34m\u001b[0m\u001b[0m\n\u001b[1;32m    219\u001b[0m         \u001b[0;32mfor\u001b[0m \u001b[0mindex\u001b[0m \u001b[0;32min\u001b[0m \u001b[0mrange\u001b[0m\u001b[0;34m(\u001b[0m\u001b[0mcol_index\u001b[0m\u001b[0;34m)\u001b[0m\u001b[0;34m:\u001b[0m\u001b[0;34m\u001b[0m\u001b[0m\n\u001b[0;32m--> 220\u001b[0;31m             \u001b[0muniques\u001b[0m \u001b[0;34m=\u001b[0m \u001b[0mnp\u001b[0m\u001b[0;34m.\u001b[0m\u001b[0munique\u001b[0m\u001b[0;34m(\u001b[0m\u001b[0mX\u001b[0m\u001b[0;34m[\u001b[0m\u001b[0;34m:\u001b[0m\u001b[0;34m,\u001b[0m \u001b[0mindex\u001b[0m\u001b[0;34m]\u001b[0m\u001b[0;34m)\u001b[0m\u001b[0;34m\u001b[0m\u001b[0m\n\u001b[0m\u001b[1;32m    221\u001b[0m             \u001b[0;32mfor\u001b[0m \u001b[0munique\u001b[0m \u001b[0;32min\u001b[0m \u001b[0muniques\u001b[0m\u001b[0;34m:\u001b[0m\u001b[0;34m\u001b[0m\u001b[0m\n\u001b[1;32m    222\u001b[0m                 \u001b[0mX1\u001b[0m\u001b[0;34m,\u001b[0m \u001b[0my1\u001b[0m\u001b[0;34m,\u001b[0m \u001b[0mX2\u001b[0m\u001b[0;34m,\u001b[0m \u001b[0my2\u001b[0m \u001b[0;34m=\u001b[0m \u001b[0mself\u001b[0m\u001b[0;34m.\u001b[0m\u001b[0m_make_split\u001b[0m\u001b[0;34m(\u001b[0m\u001b[0mX\u001b[0m\u001b[0;34m,\u001b[0m \u001b[0my\u001b[0m\u001b[0;34m,\u001b[0m \u001b[0mindex\u001b[0m\u001b[0;34m,\u001b[0m \u001b[0munique\u001b[0m\u001b[0;34m)\u001b[0m\u001b[0;34m\u001b[0m\u001b[0m\n",
      "\u001b[0;31mTypeError\u001b[0m: list indices must be integers, not tuple"
     ]
    }
   ],
   "source": [
    "tree = DecisionTree()\n",
    "tree.fit(X, y, df.columns[:-1])\n",
    "print tree\n",
    "# y_predict = tree.predict(X)"
   ]
  },
  {
   "cell_type": "code",
   "execution_count": 105,
   "metadata": {
    "collapsed": false
   },
   "outputs": [],
   "source": [
    "from collections import Counter\n",
    "y = np.array([1,1,2,2,2,3,3,3,3,3,3])\n",
    "\n",
    "def entropy(y):\n",
    "    '''\n",
    "    INPUT:\n",
    "        - y: 1d numpy array\n",
    "    OUTPUT:\n",
    "        - float\n",
    "\n",
    "    Return the entropy of the array y.\n",
    "    '''\n",
    "    d = Counter(y)    \n",
    "    l = len(y)\n",
    "    ent = 0\n",
    "    \n",
    "    for key, val in d.iteritems():\n",
    "        p = val / float(l)\n",
    "        ent += p*np.log2(p)\n",
    "    return -ent"
   ]
  },
  {
   "cell_type": "code",
   "execution_count": 106,
   "metadata": {
    "collapsed": false
   },
   "outputs": [
    {
     "data": {
      "text/plain": [
       "1.4353713907745331"
      ]
     },
     "execution_count": 106,
     "metadata": {},
     "output_type": "execute_result"
    }
   ],
   "source": [
    "entropy(y)"
   ]
  },
  {
   "cell_type": "code",
   "execution_count": 107,
   "metadata": {
    "collapsed": false
   },
   "outputs": [],
   "source": [
    "def gini(y):\n",
    "    '''\n",
    "    INPUT:\n",
    "        - y: 1d numpy array\n",
    "    OUTPUT:\n",
    "        - float\n",
    "\n",
    "    Return the gini impurity of the array y.\n",
    "    '''\n",
    "    d = Counter(y)    \n",
    "    l = len(y)\n",
    "    gini = 0\n",
    "    \n",
    "    for key, val in d.iteritems():\n",
    "        p = val / float(l)\n",
    "        gini += p*(1-p)\n",
    "    return gini"
   ]
  },
  {
   "cell_type": "code",
   "execution_count": 108,
   "metadata": {
    "collapsed": false
   },
   "outputs": [
    {
     "data": {
      "text/plain": [
       "0.5950413223140496"
      ]
     },
     "execution_count": 108,
     "metadata": {},
     "output_type": "execute_result"
    }
   ],
   "source": [
    "gini(y)"
   ]
  },
  {
   "cell_type": "code",
   "execution_count": 109,
   "metadata": {
    "collapsed": false
   },
   "outputs": [
    {
     "data": {
      "text/plain": [
       "([array([ 0.48841119,  0.61174386,  0.51841799]),\n",
       "  array([ 0.44130922,  0.15830987,  0.27408646]),\n",
       "  array([ 0.41423502,  0.29607993,  0.57983781]),\n",
       "  array([ 0.00164217,  0.51547261,  0.9856244 ]),\n",
       "  array([ 0.2590976 ,  0.80249689,  0.92274961])],\n",
       " [1, 2, 2, 3, 3],\n",
       " [array([ 0.22199317,  0.87073231,  0.91861091]),\n",
       "  array([ 0.2968005 ,  0.18772123,  0.7384403 ]),\n",
       "  array([ 0.5999292 ,  0.26581912,  0.25358821]),\n",
       "  array([ 0.32756395,  0.1441643 ,  0.96393053]),\n",
       "  array([ 0.96022672,  0.18841466,  0.20455555]),\n",
       "  array([ 0.69984361,  0.77951459,  0.57766286])],\n",
       " [1, 2, 3, 3, 3, 3])"
      ]
     },
     "execution_count": 109,
     "metadata": {},
     "output_type": "execute_result"
    }
   ],
   "source": [
    "np.random.seed(5)\n",
    "\n",
    "X = np.random.rand(y.shape[0], 4)\n",
    "\n",
    "split_index = np.random.randint(0, X.shape[1])\n",
    "\n",
    "split_value = .5\n",
    "\n",
    "def _make_split(X, y, split_index, split_value):\n",
    "    '''\n",
    "    INPUT:\n",
    "        - X: 2d numpy array\n",
    "        - y: 1d numpy array\n",
    "        - split_index: int (index of feature)\n",
    "        - split_value: int/float/bool/str (value of feature)\n",
    "    OUTPUT:\n",
    "        - X1: 2d numpy array (feature matrix for subset 1)\n",
    "        - y1: 1d numpy array (labels for subset 1)\n",
    "        - X2: 2d numpy array (feature matrix for subset 2)\n",
    "        - y2: 1d numpy array (labels for subset 2)\n",
    "\n",
    "    Return the two subsets of the dataset achieved by the given feature and\n",
    "    value to split on.\n",
    "\n",
    "    Call the method like this:\n",
    "    >>> X1, y1, X2, y2 = self._make_split(X, y, split_index, split_value)\n",
    "\n",
    "    X1, y1 is a subset of the data.\n",
    "    X2, y2 is the other subset of the data.\n",
    "    '''\n",
    "    X1 = []\n",
    "    X2 = []\n",
    "    \n",
    "    Y1 = []\n",
    "    Y2 = []\n",
    "    \n",
    "    ind = 0\n",
    "    for arr in X:\n",
    "        if arr[split_index] >= split_value:\n",
    "            stuff = np.hstack((arr[:split_index], arr[split_index+1:]))\n",
    "            X1.extend([stuff])\n",
    "            Y1.append(y[ind])\n",
    "        else:\n",
    "            stuff = np.hstack((arr[:split_index], arr[split_index+1:]))\n",
    "            X2.extend([stuff])\n",
    "            Y2.append(y[ind])\n",
    "        ind += 1\n",
    "    \n",
    "    return X1, Y1, X2, Y2\n",
    "    \n",
    "_make_split(X, y, split_index, split_value)"
   ]
  },
  {
   "cell_type": "code",
   "execution_count": 110,
   "metadata": {
    "collapsed": false
   },
   "outputs": [
    {
     "ename": "NameError",
     "evalue": "name 'self' is not defined",
     "output_type": "error",
     "traceback": [
      "\u001b[0;31m---------------------------------------------------------------------------\u001b[0m",
      "\u001b[0;31mNameError\u001b[0m                                 Traceback (most recent call last)",
      "\u001b[0;32m<ipython-input-110-e5c971dfffc2>\u001b[0m in \u001b[0;36m<module>\u001b[0;34m()\u001b[0m\n\u001b[0;32m----> 1\u001b[0;31m \u001b[0mX1\u001b[0m\u001b[0;34m,\u001b[0m \u001b[0my1\u001b[0m\u001b[0;34m,\u001b[0m \u001b[0mX2\u001b[0m\u001b[0;34m,\u001b[0m \u001b[0my2\u001b[0m \u001b[0;34m=\u001b[0m \u001b[0mself\u001b[0m\u001b[0;34m.\u001b[0m\u001b[0m_make_split\u001b[0m\u001b[0;34m(\u001b[0m\u001b[0mX\u001b[0m\u001b[0;34m,\u001b[0m \u001b[0my\u001b[0m\u001b[0;34m,\u001b[0m \u001b[0msplit_index\u001b[0m\u001b[0;34m,\u001b[0m \u001b[0msplit_value\u001b[0m\u001b[0;34m)\u001b[0m\u001b[0;34m\u001b[0m\u001b[0m\n\u001b[0m",
      "\u001b[0;31mNameError\u001b[0m: name 'self' is not defined"
     ]
    }
   ],
   "source": [
    "X1, y1, X2, y2 = self._make_split(X, y, split_index, split_value)"
   ]
  },
  {
   "cell_type": "code",
   "execution_count": 134,
   "metadata": {
    "collapsed": true
   },
   "outputs": [],
   "source": [
    "def _information_gain(y, y1, y2):\n",
    "    '''\n",
    "    INPUT:\n",
    "        - y: 1d numpy array\n",
    "        - y1: 1d numpy array (labels for subset 1)\n",
    "        - y2: 1d numpy array (labels for subset 2)\n",
    "    OUTPUT:\n",
    "        - float\n",
    "\n",
    "    Return the information gain of making the given split.\n",
    "\n",
    "    Use self.impurity_criterion(y) rather than calling _entropy or _gini\n",
    "    directly.\n",
    "    '''\n",
    "    l = float(len(y))\n",
    "    ig = entropy(y) - ((len(y1) / l)  * entropy(y1)) - ((len(y2) / l) * entropy(y2))\n",
    "    \n",
    "    return ig"
   ]
  },
  {
   "cell_type": "code",
   "execution_count": null,
   "metadata": {
    "collapsed": true
   },
   "outputs": [],
   "source": []
  },
  {
   "cell_type": "code",
   "execution_count": null,
   "metadata": {
    "collapsed": true
   },
   "outputs": [],
   "source": []
  },
  {
   "cell_type": "code",
   "execution_count": 169,
   "metadata": {
    "collapsed": false
   },
   "outputs": [],
   "source": [
    "def _choose_split_index(X, y):\n",
    "    '''\n",
    "    INPUT:\n",
    "        - X: 2d numpy array\n",
    "        - y: 1d numpy array\n",
    "    OUTPUT:\n",
    "        - index: int (index of feature)\n",
    "        - value: int/float/bool/str (value of feature)\n",
    "        - splits: (2d array, 1d array, 2d array, 1d array)\n",
    "\n",
    "    Determine which feature and value to split on. Return the index and\n",
    "    value of the optimal split along with the split of the dataset.\n",
    "\n",
    "    Return None, None, None if there is no split which improves information\n",
    "    gain.\n",
    "\n",
    "    Call the method like this:\n",
    "    >>> index, value, splits = self._choose_split_index(X, y)\n",
    "    >>> X1, y1, X2, y2 = splits\n",
    "    '''\n",
    "\n",
    "    col_index = X.shape[1]    \n",
    "    igs = []\n",
    "    \n",
    "    for index in range(col_index):\n",
    "        uniques = np.unique(X[:, index])\n",
    "        for unique in uniques:\n",
    "            X1, y1, X2, y2 = _make_split(X, y, index, unique)\n",
    "            ig = _information_gain( y, y1, y2)\n",
    "            igs.append((ig, index, unique))\n",
    "    \n",
    "    max_set = sorted(igs, key = lambda x: x[0], reverse = True)[0]\n",
    "\n",
    "    index = max_set[1]\n",
    "    value = max_set[2]\n",
    "    splits = _make_split(X, y, index, value)\n",
    "    \n",
    "    return index, value, splits\n"
   ]
  },
  {
   "cell_type": "code",
   "execution_count": 170,
   "metadata": {
    "collapsed": false
   },
   "outputs": [
    {
     "data": {
      "text/plain": [
       "(1,\n",
       " 0.51547261190539351,\n",
       " ([array([ 0.22199317,  0.20671916,  0.91861091]),\n",
       "   array([ 0.48841119,  0.76590786,  0.51841799]),\n",
       "   array([ 0.69984361,  0.02293309,  0.57766286]),\n",
       "   array([ 0.00164217,  0.63979518,  0.9856244 ]),\n",
       "   array([ 0.2590976 ,  0.87048309,  0.92274961])],\n",
       "  [1, 1, 3, 3, 3],\n",
       "  [array([ 0.2968005 ,  0.08074127,  0.7384403 ]),\n",
       "   array([ 0.44130922,  0.87993703,  0.27408646]),\n",
       "   array([ 0.41423502,  0.62878791,  0.57983781]),\n",
       "   array([ 0.5999292 ,  0.28468588,  0.25358821]),\n",
       "   array([ 0.32756395,  0.16561286,  0.96393053]),\n",
       "   array([ 0.96022672,  0.02430656,  0.20455555])],\n",
       "  [2, 2, 2, 3, 3, 3]))"
      ]
     },
     "execution_count": 170,
     "metadata": {},
     "output_type": "execute_result"
    }
   ],
   "source": [
    "_choose_split_index(X, y)"
   ]
  },
  {
   "cell_type": "code",
   "execution_count": null,
   "metadata": {
    "collapsed": true
   },
   "outputs": [],
   "source": [
    "Temperature,Humidity,Result\n",
    "85,85,Don't Play\n",
    "80,90,Don't Play\n",
    "83,78,Play\n",
    "70,96,Play\n",
    "68,80,Play\n",
    "65,70,Don't Play\n",
    "64,65,Play\n",
    "72,95,Don't Play\n",
    "69,70,Play\n",
    "75,80,Play\n",
    "75,70,Play\n",
    "72,90,Play\n",
    "81,75,Play\n",
    "71,80,Don't Play"
   ]
  },
  {
   "cell_type": "code",
   "execution_count": null,
   "metadata": {
    "collapsed": true
   },
   "outputs": [],
   "source": [
    "Outlook,Windy,Result\n",
    "sunny,false,Don't Play\n",
    "sunny,true,Don't Play\n",
    "overcast,false,Play\n",
    "rain,false,Play\n",
    "rain,false,Play\n",
    "rain,true,Don't Play\n",
    "overcast,true,Play\n",
    "sunny,false,Don't Play\n",
    "sunny,false,Play\n",
    "rain,false,Play\n",
    "sunny,true,Play\n",
    "overcast,true,Play\n",
    "overcast,false,Play\n",
    "rain,true,Don't Play\n"
   ]
  },
  {
   "cell_type": "code",
   "execution_count": null,
   "metadata": {
    "collapsed": true
   },
   "outputs": [],
   "source": [
    "df[:,0].unique\n",
    "->> [sunny, overcast, rain]"
   ]
  },
  {
   "cell_type": "code",
   "execution_count": 128,
   "metadata": {
    "collapsed": false
   },
   "outputs": [
    {
     "data": {
      "text/plain": [
       "array([ 0.00164217,  0.22199317,  0.2590976 ,  0.2968005 ,  0.32756395,\n",
       "        0.41423502,  0.44130922,  0.48841119,  0.5999292 ,  0.69984361,\n",
       "        0.96022672])"
      ]
     },
     "execution_count": 128,
     "metadata": {},
     "output_type": "execute_result"
    }
   ],
   "source": [
    "np.unique(X[:,0])"
   ]
  },
  {
   "cell_type": "code",
   "execution_count": null,
   "metadata": {
    "collapsed": true
   },
   "outputs": [],
   "source": []
  },
  {
   "cell_type": "code",
   "execution_count": null,
   "metadata": {
    "collapsed": true
   },
   "outputs": [],
   "source": []
  },
  {
   "cell_type": "code",
   "execution_count": null,
   "metadata": {
    "collapsed": true
   },
   "outputs": [],
   "source": []
  }
 ],
 "metadata": {
  "kernelspec": {
   "display_name": "Python 2",
   "language": "python",
   "name": "python2"
  },
  "language_info": {
   "codemirror_mode": {
    "name": "ipython",
    "version": 2
   },
   "file_extension": ".py",
   "mimetype": "text/x-python",
   "name": "python",
   "nbconvert_exporter": "python",
   "pygments_lexer": "ipython2",
   "version": "2.7.13"
  }
 },
 "nbformat": 4,
 "nbformat_minor": 2
}
